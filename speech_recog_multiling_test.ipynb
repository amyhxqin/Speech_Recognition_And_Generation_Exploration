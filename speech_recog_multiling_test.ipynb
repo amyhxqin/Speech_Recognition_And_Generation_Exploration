{
 "cells": [
  {
   "cell_type": "markdown",
   "metadata": {},
   "source": [
    "# Multilingual Speech Recognition Test"
   ]
  },
  {
   "cell_type": "markdown",
   "metadata": {},
   "source": [
    "This notebook explores the accuracy of speech recognition for English and for French."
   ]
  },
  {
   "cell_type": "code",
   "execution_count": 12,
   "metadata": {},
   "outputs": [
    {
     "data": {
      "text/plain": [
       "'3.8.1'"
      ]
     },
     "execution_count": 12,
     "metadata": {},
     "output_type": "execute_result"
    }
   ],
   "source": [
    "import speech_recognition as sr\n",
    "sr.__version__"
   ]
  },
  {
   "cell_type": "code",
   "execution_count": 13,
   "metadata": {},
   "outputs": [],
   "source": [
    "r = sr.Recognizer()"
   ]
  },
  {
   "cell_type": "code",
   "execution_count": 28,
   "metadata": {},
   "outputs": [
    {
     "name": "stdout",
     "output_type": "stream",
     "text": [
      "Say something!\n",
      "End of recording\n"
     ]
    }
   ],
   "source": [
    "with sr.Microphone() as source:\n",
    "    print(\"Say something!\")\n",
    "    # r.adjust_for_ambient_noise(source)\n",
    "    audio = r.listen(source)\n",
    "    print('End of recording')"
   ]
  },
  {
   "cell_type": "code",
   "execution_count": 11,
   "metadata": {},
   "outputs": [],
   "source": [
    "# # recognize speech using Google Speech Recognition (test)\n",
    "# try:\n",
    "#     # for testing purposes, we're just using the default API key\n",
    "#     # to use another API key, use `r.recognize_google(audio, key=\"GOOGLE_SPEECH_RECOGNITION_API_KEY\")`\n",
    "#     # instead of `r.recognize_google(audio)`\n",
    "#     print(\"Google Speech Recognition thinks you said \\\"\" + r.recognize_google(audio) + \"\\\"\")\n",
    "# except sr.UnknownValueError:\n",
    "#     print(\"Google Speech Recognition could not understand audio\")\n",
    "# except sr.RequestError as e:\n",
    "#     print(\"Could not request results from Google Speech Recognition service; {0}\".format(e))"
   ]
  },
  {
   "cell_type": "code",
   "execution_count": 10,
   "metadata": {},
   "outputs": [],
   "source": [
    "# # recognize speech using Sphinx (offline test) -> inaccurate (needs training)\n",
    "# try:\n",
    "#     print(\"Sphinx thinks you said \\\"\" + r.recognize_sphinx(audio) + \"\\\"\")\n",
    "# except sr.UnknownValueError:\n",
    "#     print(\"Sphinx could not understand audio\")\n",
    "# except sr.RequestError as e:\n",
    "#     print(\"Sphinx error; {0}\".format(e))"
   ]
  },
  {
   "cell_type": "code",
   "execution_count": 25,
   "metadata": {},
   "outputs": [
    {
     "name": "stdout",
     "output_type": "stream",
     "text": [
      "hello how are you\n"
     ]
    }
   ],
   "source": [
    "# For English\n",
    "try:\n",
    "    # for testing purposes, we're just using the default API key\n",
    "    # to use another API key, use `r.recognize_google(audio, key=\"GOOGLE_SPEECH_RECOGNITION_API_KEY\")`\n",
    "    # instead of `r.recognize_google(audio)`\n",
    "    print(r.recognize_google(audio))\n",
    "except sr.UnknownValueError:\n",
    "    print('Google Speech Recognition could not understand audio')\n",
    "except sr.RequestError as e:\n",
    "    print('Could not request results from Google Speech Recognition service; {0}'.format(e))"
   ]
  },
  {
   "cell_type": "code",
   "execution_count": 29,
   "metadata": {},
   "outputs": [
    {
     "name": "stdout",
     "output_type": "stream",
     "text": [
      "bonjour comment ça va\n"
     ]
    }
   ],
   "source": [
    "# For French (sometimes inaccurate)\n",
    "try:\n",
    "    # for testing purposes, we're just using the default API key\n",
    "    # to use another API key, use `r.recognize_google(audio, key=\"GOOGLE_SPEECH_RECOGNITION_API_KEY\")`\n",
    "    # instead of `r.recognize_google(audio)`\n",
    "    print(r.recognize_google(audio, language='fr-FR'))\n",
    "except sr.UnknownValueError:\n",
    "    print('Google Speech Recognition could not understand audio')\n",
    "except sr.RequestError as e:\n",
    "    print('Could not request results from Google Speech Recognition service; {0}'.format(e))"
   ]
  }
 ],
 "metadata": {
  "kernelspec": {
   "display_name": "Python 3",
   "language": "python",
   "name": "python3"
  },
  "language_info": {
   "codemirror_mode": {
    "name": "ipython",
    "version": 3
   },
   "file_extension": ".py",
   "mimetype": "text/x-python",
   "name": "python",
   "nbconvert_exporter": "python",
   "pygments_lexer": "ipython3",
   "version": "3.7.0"
  }
 },
 "nbformat": 4,
 "nbformat_minor": 2
}
